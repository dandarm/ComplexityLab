    "import matplotlib.pyplot as plt\n",
    "\n",
    "from timeseries_generators import lorenz63\n"
    "lorenz_trajectory = lorenz63(rho=28.0, dt=0.01, steps=10000)\n",
    "x_lor = lorenz_trajectory[:, 0]\n",
    "plt.show()\n"
    "    trajectory = lorenz63(sigma=sigma, rho=r, beta=beta, dt=dt, steps=steps, transient=transient)\n",
    "    x_series = trajectory[:, 0]\n",
    "noise_series = (noise_series - np.mean(noise_series)) / np.std(noise_series)\n"
