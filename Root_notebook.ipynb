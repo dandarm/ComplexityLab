{
 "cells": [
  {
   "cell_type": "markdown",
   "id": "4d80c200-7b27-4935-9692-99f417376b9a",
   "metadata": {},
   "source": [
    "# Serie usate"
   ]
  },
  {
   "cell_type": "markdown",
   "id": "6116526e-3a75-4ae9-acf0-55dee96da0f3",
   "metadata": {},
   "source": [
    "## Logistic Map"
   ]
  },
  {
   "cell_type": "markdown",
   "id": "b5a23557-fd99-4ad3-81bc-2e0e43d0f10a",
   "metadata": {},
   "source": [
    "## Lorenz"
   ]
  },
  {
   "cell_type": "markdown",
   "id": "33acfdf5-1ed1-4222-bdb5-9e35069359d1",
   "metadata": {},
   "source": [
    "## Rumore stocastico"
   ]
  },
  {
   "cell_type": "markdown",
   "id": "e6a4fd90-5943-40d6-b830-5af89f3722ee",
   "metadata": {},
   "source": [
    "# Regimi\n",
    "periodico -> caotico -> rumore bianco -> AR(1)?"
   ]
  },
  {
   "cell_type": "code",
   "execution_count": null,
   "id": "011cf709-3f9e-4731-8efd-e1fae39ce396",
   "metadata": {},
   "outputs": [],
   "source": []
  },
  {
   "cell_type": "code",
   "execution_count": null,
   "id": "8a0eee4e-e634-42ba-b4ad-a527caebcaa6",
   "metadata": {},
   "outputs": [],
   "source": []
  },
  {
   "cell_type": "markdown",
   "id": "2b3fe5d8-c8c7-44e6-ae5b-82123adcac1e",
   "metadata": {},
   "source": [
    "# Misure"
   ]
  },
  {
   "cell_type": "markdown",
   "id": "9fa5db37-5a27-45b0-9760-12f70b247d87",
   "metadata": {},
   "source": [
    "esponenti di lyapunov"
   ]
  },
  {
   "cell_type": "markdown",
   "id": "fc7d3137-8835-4f44-aae2-39ad31e943f0",
   "metadata": {},
   "source": [
    "presenza di attrattori"
   ]
  },
  {
   "cell_type": "markdown",
   "id": "0ce2d457-ca53-4ff3-948e-4ba8fa8b4c5a",
   "metadata": {},
   "source": [
    "## autocorrelazioni"
   ]
  },
  {
   "cell_type": "code",
   "execution_count": null,
   "id": "d01c0918-b339-43ad-8197-b77709d9f2f3",
   "metadata": {},
   "outputs": [],
   "source": []
  },
  {
   "cell_type": "markdown",
   "id": "8bacd7b8-d91e-4e3c-83ff-d7cfb69d3931",
   "metadata": {},
   "source": [
    "ricostruzione di fase"
   ]
  },
  {
   "cell_type": "markdown",
   "id": "6aceca2d-dce6-4f28-9c4f-094f0e2883e5",
   "metadata": {},
   "source": [
    "dimensione frattale"
   ]
  },
  {
   "cell_type": "markdown",
   "id": "ef8464c3-4b60-45ab-8347-69c6b12a6d15",
   "metadata": {},
   "source": [
    "recurrence plots"
   ]
  },
  {
   "cell_type": "markdown",
   "id": "8893e47f-6dd1-47b7-a987-314b5a2475eb",
   "metadata": {},
   "source": [
    "entropia"
   ]
  },
  {
   "cell_type": "code",
   "execution_count": null,
   "id": "6664ea8e-0557-48aa-80ff-c532d4cb0c73",
   "metadata": {},
   "outputs": [],
   "source": [
    "test di non linearità"
   ]
  }
 ],
 "metadata": {
  "kernelspec": {
   "display_name": "Time Series",
   "language": "python",
   "name": "tsenv"
  },
  "language_info": {
   "codemirror_mode": {
    "name": "ipython",
    "version": 3
   },
   "file_extension": ".py",
   "mimetype": "text/x-python",
   "name": "python",
   "nbconvert_exporter": "python",
   "pygments_lexer": "ipython3",
   "version": "3.11.11"
  }
 },
 "nbformat": 4,
 "nbformat_minor": 5
}
