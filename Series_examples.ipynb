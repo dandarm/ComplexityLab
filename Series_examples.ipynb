{
 "cells": [
  {
   "cell_type": "markdown",
   "id": "ede36841",
   "metadata": {},
   "source": [
    "# Esempi con la classe `Series`"
   ]
  },
  {
   "cell_type": "markdown",
   "id": "7a044a61",
   "metadata": {},
   "source": [
    "In questo notebook mostriamo come utilizzare la classe `Series` per raccogliere le serie temporali generate dal sistema di Lorenz 63 al variare del parametro di controllo $\\rho$."
   ]
  },
  {
   "cell_type": "code",
   "execution_count": null,
   "id": "17ec1711",
   "metadata": {},
   "outputs": [],
   "source": [
    "import numpy as np\n",
    "import pandas as pd\n",
    "import matplotlib.pyplot as plt\n",
    "\n",
    "from series import Series\n",
    "from timeseries_generators import lorenz63"
   ]
  },
  {
   "cell_type": "code",
   "execution_count": null,
   "id": "8b34ea4c",
   "metadata": {},
   "outputs": [],
   "source": [
    "r_values = [10, 15, 20, 24, 26, 28, 35]\n",
    "dt = 0.01\n",
    "steps = 6000\n",
    "transient = 2000\n",
    "sigma = 10.0\n",
    "beta = 8.0 / 3.0\n",
    "\n",
    "lorenz_series_instances = []\n",
    "for rho in r_values:\n",
    "    trajectory = lorenz63(sigma=sigma, rho=rho, beta=beta, dt=dt, steps=steps, transient=transient)\n",
    "    x_component = trajectory[:, 0]\n",
    "    normalized = (x_component - np.mean(x_component)) / np.std(x_component)\n",
    "    series = Series(\n",
    "        name=\"Lorenz 63\",\n",
    "        data=normalized,\n",
    "        parameters={\"sigma\": sigma, \"rho\": rho, \"beta\": beta, \"dt\": dt},\n",
    "        metadata={\"component\": \"x\"},\n",
    "    )\n",
    "    lorenz_series_instances.append(series)\n",
    "\n",
    "summary = pd.DataFrame(\n",
    "    {\n",
    "        \"rho\": [s.parameters[\"rho\"] for s in lorenz_series_instances],\n",
    "        \"campioni\": [s.n_samples for s in lorenz_series_instances],\n",
    "        \"componenti\": [s.n_components for s in lorenz_series_instances],\n",
    "    }\n",
    ")\n",
    "summary"
   ]
  },
  {
   "cell_type": "code",
   "execution_count": null,
   "id": "f53f09a6",
   "metadata": {},
   "outputs": [],
   "source": [
    "plt.figure(figsize=(10, 4))\n",
    "for series in lorenz_series_instances:\n",
    "    label = f\"rho={series.parameters['rho']}\"\n",
    "    plt.plot(series.component(0)[:1000], label=label, alpha=0.7)\n",
    "plt.title(\"Confronto delle serie di Lorenz (componente x)\")\n",
    "plt.xlabel(\"Passi\")\n",
    "plt.ylabel(\"Valore normalizzato\")\n",
    "plt.legend(ncol=2, fontsize=9)\n",
    "plt.tight_layout()\n",
    "plt.show()"
   ]
  }
 ],
 "metadata": {
  "kernelspec": {
   "display_name": "Python 3",
   "language": "python",
   "name": "python3"
  },
  "language_info": {
   "codemirror_mode": {
    "name": "ipython",
    "version": 3
   },
   "name": "python",
   "pygments_lexer": "ipython3"
  }
 },
 "nbformat": 4,
 "nbformat_minor": 5
}
